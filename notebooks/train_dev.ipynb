{
 "cells": [
  {
   "cell_type": "code",
   "execution_count": 1,
   "metadata": {},
   "outputs": [
    {
     "name": "stdout",
     "output_type": "stream",
     "text": [
      "Python 3.10.16\n",
      "environ({'DATABASE_URL': 'postgresql://user:password@db:5432/ml_api_db', 'HOSTNAME': 'f9f5a6d94a3c', 'HOME': '/home/appuser', 'GPG_KEY': 'A035C8C19219BA821ECEA86B64E628F8D684696D', 'PYTHON_SHA256': 'bfb249609990220491a1b92850a07135ed0831e41738cf681d63cf01b2a8fbd1', 'PATH': '/usr/local/bin:/home/appuser/.local/bin:/home/appuser/.cursor-server/bin/1d623c4cc1d3bb6e0fe4f1d5434b47b958b05870/bin/remote-cli:/usr/local/bin:/usr/local/sbin:/usr/local/bin:/usr/sbin:/usr/bin:/sbin:/bin:/home/appuser/.cursor-server/bin/1d623c4cc1d3bb6e0fe4f1d5434b47b958b05870/bin/remote-cli:/usr/local/bin:/usr/local/sbin:/usr/local/bin:/usr/sbin:/usr/bin:/sbin:/bin', 'LANG': 'C.UTF-8', 'SHELL': '/bin/bash', 'PYTHON_VERSION': '3.10.16', 'PWD': '/home/appuser/.cursor-server/bin/1d623c4cc1d3bb6e0fe4f1d5434b47b958b05870', 'VSCODE_CWD': '/home/appuser/.cursor-server/bin/1d623c4cc1d3bb6e0fe4f1d5434b47b958b05870', 'VSCODE_NLS_CONFIG': '{\"userLocale\":\"en\",\"osLocale\":\"en\",\"resolvedLanguage\":\"en\",\"defaultMessagesFile\":\"/home/appuser/.cursor-server/bin/1d623c4cc1d3bb6e0fe4f1d5434b47b958b05870/out/nls.messages.json\",\"locale\":\"en\",\"availableLanguages\":{}}', 'VSCODE_HANDLES_SIGPIPE': 'true', 'VSCODE_ESM_ENTRYPOINT': 'vs/workbench/api/node/extensionHostProcess', 'VSCODE_HANDLES_UNCAUGHT_ERRORS': 'true', 'REMOTE_CONTAINERS_IPC': '/tmp/vscode-remote-containers-ipc-eade8306-a82a-4576-9c84-e8bca2fdaa77.sock', 'LS_COLORS': '', 'REMOTE_CONTAINERS_SOCKETS': '[\"/tmp/.X11-unix/X3\",\"/home/appuser/.gnupg/S.gpg-agent\"]', 'SHLVL': '1', '_': '/usr/bin/cat', 'DISPLAY': ':3', 'REMOTE_CONTAINERS_DISPLAY_SOCK': '/tmp/.X11-unix/X3', 'REMOTE_CONTAINERS': 'true', 'BROWSER': '/home/appuser/.cursor-server/bin/1d623c4cc1d3bb6e0fe4f1d5434b47b958b05870/bin/helpers/browser.sh', 'ELECTRON_RUN_AS_NODE': '1', 'VSCODE_IPC_HOOK_CLI': '/tmp/vscode-ipc-6c5699a5-b198-48d3-97ac-49971099c54f.sock', 'VSCODE_L10N_BUNDLE_LOCATION': '', 'PYDEVD_IPYTHON_COMPATIBLE_DEBUGGING': '1', 'PYTHONUNBUFFERED': '1', 'PYTHONIOENCODING': 'utf-8', 'PYTHON_FROZEN_MODULES': 'on', 'PYDEVD_USE_FRAME_EVAL': 'NO', 'TERM': 'xterm-color', 'CLICOLOR': '1', 'FORCE_COLOR': '1', 'CLICOLOR_FORCE': '1', 'PAGER': 'cat', 'GIT_PAGER': 'cat', 'MPLBACKEND': 'module://matplotlib_inline.backend_inline'})\n",
      "PRETTY_NAME=\"Debian GNU/Linux 12 (bookworm)\"\n",
      "NAME=\"Debian GNU/Linux\"\n",
      "VERSION_ID=\"12\"\n",
      "VERSION=\"12 (bookworm)\"\n",
      "VERSION_CODENAME=bookworm\n",
      "ID=debian\n",
      "HOME_URL=\"https://www.debian.org/\"\n",
      "SUPPORT_URL=\"https://www.debian.org/support\"\n",
      "BUG_REPORT_URL=\"https://bugs.debian.org/\"\n"
     ]
    }
   ],
   "source": [
    "! python --version\n",
    "\n",
    "import os\n",
    "print(os.environ)  # Should show container-specific environment variables\n",
    "!cat /etc/os-release  # Should show the container's Linux distribution"
   ]
  },
  {
   "cell_type": "code",
   "execution_count": 1,
   "metadata": {},
   "outputs": [
    {
     "name": "stderr",
     "output_type": "stream",
     "text": [
      "2025-03-15 02:35:35,639 - INFO - Model Accuracy: 1.00\n",
      "2025-03-15 02:35:35,641 - INFO - Model saved as ml_model.pkl\n"
     ]
    }
   ],
   "source": [
    "import numpy as np\n",
    "from sklearn.datasets import load_iris\n",
    "from sklearn.model_selection import train_test_split\n",
    "from sklearn.linear_model import LogisticRegression\n",
    "from sklearn.metrics import accuracy_score\n",
    "import joblib\n",
    "import logging\n",
    "\n",
    "# Load the Iris dataset\n",
    "iris = load_iris()\n",
    "X = iris.data\n",
    "y = iris.target\n",
    "\n",
    "# Split into training and test sets\n",
    "X_train, X_test, y_train, y_test = train_test_split(X, y, test_size=0.2, random_state=42)\n",
    "\n",
    "# Train a simple logistic regression model\n",
    "model = LogisticRegression(max_iter=200)\n",
    "model.fit(X_train, y_train)\n",
    "\n",
    "# Evaluate accuracy\n",
    "y_pred = model.predict(X_test)\n",
    "accuracy = accuracy_score(y_test, y_pred)\n",
    "\n",
    "# Save the trained model\n",
    "joblib.dump(model, \"ml_model.pkl\")\n",
    "\n",
    "# logging: Configure & log important messages\n",
    "logging.basicConfig(level=logging.INFO, format=\"%(asctime)s - %(levelname)s - %(message)s\")\n",
    "logging.info(f\"Model Accuracy: {accuracy:.2f}\")\n",
    "logging.info(\"Model saved as ml_model.pkl\")"
   ]
  }
 ],
 "metadata": {
  "kernelspec": {
   "display_name": "Python 3",
   "language": "python",
   "name": "python3"
  },
  "language_info": {
   "codemirror_mode": {
    "name": "ipython",
    "version": 3
   },
   "file_extension": ".py",
   "mimetype": "text/x-python",
   "name": "python",
   "nbconvert_exporter": "python",
   "pygments_lexer": "ipython3",
   "version": "3.10.16"
  }
 },
 "nbformat": 4,
 "nbformat_minor": 2
}
